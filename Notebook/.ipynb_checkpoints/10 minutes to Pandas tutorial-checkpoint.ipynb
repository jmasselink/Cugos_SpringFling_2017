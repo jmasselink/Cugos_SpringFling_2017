{
 "cells": [
  {
   "cell_type": "markdown",
   "metadata": {},
   "source": [
    "Tutorial: http://pandas.pydata.org/pandas-docs/stable/10min.html"
   ]
  },
  {
   "cell_type": "code",
   "execution_count": 3,
   "metadata": {
    "collapsed": true
   },
   "outputs": [],
   "source": [
    "import pandas as pd\n",
    "import numpy as np\n",
    "import matplotlib.pyplot as plt"
   ]
  },
  {
   "cell_type": "markdown",
   "metadata": {},
   "source": [
    "##### Object Creation"
   ]
  },
  {
   "cell_type": "markdown",
   "metadata": {},
   "source": [
    "Create a series"
   ]
  },
  {
   "cell_type": "code",
   "execution_count": 11,
   "metadata": {},
   "outputs": [],
   "source": [
    "s = pd.Series([10, 33, 75, np.nan, 106, 8])"
   ]
  },
  {
   "cell_type": "code",
   "execution_count": 30,
   "metadata": {},
   "outputs": [
    {
     "data": {
      "text/plain": [
       "0     10.0\n",
       "1     33.0\n",
       "2     75.0\n",
       "3      NaN\n",
       "4    106.0\n",
       "5      8.0\n",
       "dtype: float64"
      ]
     },
     "execution_count": 30,
     "metadata": {},
     "output_type": "execute_result"
    }
   ],
   "source": [
    "s"
   ]
  },
  {
   "cell_type": "markdown",
   "metadata": {},
   "source": [
    "Create a DataFrame by passing a numpy array w/datetime index & labeled columns"
   ]
  },
  {
   "cell_type": "code",
   "execution_count": 31,
   "metadata": {
    "collapsed": true
   },
   "outputs": [],
   "source": [
    "dates = pd.date_range('20170608', periods=16) ##, tz='Africa/Kampala')\n",
    "#pd.date_range?"
   ]
  },
  {
   "cell_type": "code",
   "execution_count": 32,
   "metadata": {},
   "outputs": [
    {
     "data": {
      "text/plain": [
       "DatetimeIndex(['2017-06-08', '2017-06-09', '2017-06-10', '2017-06-11',\n",
       "               '2017-06-12', '2017-06-13', '2017-06-14', '2017-06-15',\n",
       "               '2017-06-16', '2017-06-17', '2017-06-18', '2017-06-19',\n",
       "               '2017-06-20', '2017-06-21', '2017-06-22', '2017-06-23'],\n",
       "              dtype='datetime64[ns]', freq='D')"
      ]
     },
     "execution_count": 32,
     "metadata": {},
     "output_type": "execute_result"
    }
   ],
   "source": [
    "dates"
   ]
  },
  {
   "cell_type": "code",
   "execution_count": 39,
   "metadata": {},
   "outputs": [],
   "source": [
    "# create a dataframe here\n",
    "# pd.DataFrame? pd.DataFrame(self, data=None, index=None, columns=None, dtype=None, copy=False)\n",
    "df = pd.DataFrame(np.random.randn(16,5), index=dates, columns=list('ABCDE'))  #data dims match index: 16==16 | cols= 3=='ABC'"
   ]
  },
  {
   "cell_type": "code",
   "execution_count": 40,
   "metadata": {},
   "outputs": [
    {
     "data": {
      "text/html": [
       "<div>\n",
       "<style>\n",
       "    .dataframe thead tr:only-child th {\n",
       "        text-align: right;\n",
       "    }\n",
       "\n",
       "    .dataframe thead th {\n",
       "        text-align: left;\n",
       "    }\n",
       "\n",
       "    .dataframe tbody tr th {\n",
       "        vertical-align: top;\n",
       "    }\n",
       "</style>\n",
       "<table border=\"1\" class=\"dataframe\">\n",
       "  <thead>\n",
       "    <tr style=\"text-align: right;\">\n",
       "      <th></th>\n",
       "      <th>A</th>\n",
       "      <th>B</th>\n",
       "      <th>C</th>\n",
       "      <th>D</th>\n",
       "      <th>E</th>\n",
       "    </tr>\n",
       "  </thead>\n",
       "  <tbody>\n",
       "    <tr>\n",
       "      <th>2017-06-08</th>\n",
       "      <td>0.801781</td>\n",
       "      <td>1.136717</td>\n",
       "      <td>1.188838</td>\n",
       "      <td>-0.402120</td>\n",
       "      <td>-0.235515</td>\n",
       "    </tr>\n",
       "    <tr>\n",
       "      <th>2017-06-09</th>\n",
       "      <td>0.372936</td>\n",
       "      <td>-1.435038</td>\n",
       "      <td>-1.286853</td>\n",
       "      <td>0.831206</td>\n",
       "      <td>-1.135913</td>\n",
       "    </tr>\n",
       "    <tr>\n",
       "      <th>2017-06-10</th>\n",
       "      <td>0.187560</td>\n",
       "      <td>0.460868</td>\n",
       "      <td>-1.805518</td>\n",
       "      <td>0.582420</td>\n",
       "      <td>0.399372</td>\n",
       "    </tr>\n",
       "    <tr>\n",
       "      <th>2017-06-11</th>\n",
       "      <td>2.088195</td>\n",
       "      <td>0.691398</td>\n",
       "      <td>-0.261565</td>\n",
       "      <td>-0.139224</td>\n",
       "      <td>-0.487922</td>\n",
       "    </tr>\n",
       "    <tr>\n",
       "      <th>2017-06-12</th>\n",
       "      <td>1.244276</td>\n",
       "      <td>1.209600</td>\n",
       "      <td>0.033265</td>\n",
       "      <td>1.376887</td>\n",
       "      <td>2.805198</td>\n",
       "    </tr>\n",
       "    <tr>\n",
       "      <th>2017-06-13</th>\n",
       "      <td>0.036693</td>\n",
       "      <td>1.028335</td>\n",
       "      <td>-0.196918</td>\n",
       "      <td>0.335599</td>\n",
       "      <td>-0.255349</td>\n",
       "    </tr>\n",
       "    <tr>\n",
       "      <th>2017-06-14</th>\n",
       "      <td>0.230790</td>\n",
       "      <td>0.280319</td>\n",
       "      <td>-0.289356</td>\n",
       "      <td>0.279247</td>\n",
       "      <td>1.028231</td>\n",
       "    </tr>\n",
       "    <tr>\n",
       "      <th>2017-06-15</th>\n",
       "      <td>1.853709</td>\n",
       "      <td>0.300233</td>\n",
       "      <td>2.032685</td>\n",
       "      <td>0.660566</td>\n",
       "      <td>-0.946793</td>\n",
       "    </tr>\n",
       "    <tr>\n",
       "      <th>2017-06-16</th>\n",
       "      <td>1.214562</td>\n",
       "      <td>0.474831</td>\n",
       "      <td>-1.545191</td>\n",
       "      <td>2.401952</td>\n",
       "      <td>1.478247</td>\n",
       "    </tr>\n",
       "    <tr>\n",
       "      <th>2017-06-17</th>\n",
       "      <td>0.432238</td>\n",
       "      <td>0.779668</td>\n",
       "      <td>1.082635</td>\n",
       "      <td>-1.632081</td>\n",
       "      <td>-0.745487</td>\n",
       "    </tr>\n",
       "    <tr>\n",
       "      <th>2017-06-18</th>\n",
       "      <td>0.738403</td>\n",
       "      <td>1.252009</td>\n",
       "      <td>-0.337800</td>\n",
       "      <td>-1.047032</td>\n",
       "      <td>1.601744</td>\n",
       "    </tr>\n",
       "    <tr>\n",
       "      <th>2017-06-19</th>\n",
       "      <td>0.769901</td>\n",
       "      <td>0.513152</td>\n",
       "      <td>1.930359</td>\n",
       "      <td>0.979312</td>\n",
       "      <td>-0.520222</td>\n",
       "    </tr>\n",
       "    <tr>\n",
       "      <th>2017-06-20</th>\n",
       "      <td>-0.735336</td>\n",
       "      <td>-1.275757</td>\n",
       "      <td>-0.096173</td>\n",
       "      <td>-0.056418</td>\n",
       "      <td>-1.176870</td>\n",
       "    </tr>\n",
       "    <tr>\n",
       "      <th>2017-06-21</th>\n",
       "      <td>-0.602025</td>\n",
       "      <td>-0.140642</td>\n",
       "      <td>0.879304</td>\n",
       "      <td>-0.196021</td>\n",
       "      <td>1.367677</td>\n",
       "    </tr>\n",
       "    <tr>\n",
       "      <th>2017-06-22</th>\n",
       "      <td>1.492279</td>\n",
       "      <td>1.176970</td>\n",
       "      <td>-0.667756</td>\n",
       "      <td>1.122184</td>\n",
       "      <td>-0.951567</td>\n",
       "    </tr>\n",
       "    <tr>\n",
       "      <th>2017-06-23</th>\n",
       "      <td>1.275898</td>\n",
       "      <td>-1.687746</td>\n",
       "      <td>1.828858</td>\n",
       "      <td>-1.437563</td>\n",
       "      <td>0.287470</td>\n",
       "    </tr>\n",
       "  </tbody>\n",
       "</table>\n",
       "</div>"
      ],
      "text/plain": [
       "                   A         B         C         D         E\n",
       "2017-06-08  0.801781  1.136717  1.188838 -0.402120 -0.235515\n",
       "2017-06-09  0.372936 -1.435038 -1.286853  0.831206 -1.135913\n",
       "2017-06-10  0.187560  0.460868 -1.805518  0.582420  0.399372\n",
       "2017-06-11  2.088195  0.691398 -0.261565 -0.139224 -0.487922\n",
       "2017-06-12  1.244276  1.209600  0.033265  1.376887  2.805198\n",
       "2017-06-13  0.036693  1.028335 -0.196918  0.335599 -0.255349\n",
       "2017-06-14  0.230790  0.280319 -0.289356  0.279247  1.028231\n",
       "2017-06-15  1.853709  0.300233  2.032685  0.660566 -0.946793\n",
       "2017-06-16  1.214562  0.474831 -1.545191  2.401952  1.478247\n",
       "2017-06-17  0.432238  0.779668  1.082635 -1.632081 -0.745487\n",
       "2017-06-18  0.738403  1.252009 -0.337800 -1.047032  1.601744\n",
       "2017-06-19  0.769901  0.513152  1.930359  0.979312 -0.520222\n",
       "2017-06-20 -0.735336 -1.275757 -0.096173 -0.056418 -1.176870\n",
       "2017-06-21 -0.602025 -0.140642  0.879304 -0.196021  1.367677\n",
       "2017-06-22  1.492279  1.176970 -0.667756  1.122184 -0.951567\n",
       "2017-06-23  1.275898 -1.687746  1.828858 -1.437563  0.287470"
      ]
     },
     "execution_count": 40,
     "metadata": {},
     "output_type": "execute_result"
    }
   ],
   "source": [
    "df"
   ]
  },
  {
   "cell_type": "markdown",
   "metadata": {},
   "source": [
    "Create a second DF - passing dict of objects"
   ]
  },
  {
   "cell_type": "code",
   "execution_count": 43,
   "metadata": {
    "collapsed": true
   },
   "outputs": [],
   "source": [
    "df2 = pd.DataFrame({ 'A' : 1.,\n",
    "                        'B' : pd.Timestamp('20130102'),\n",
    "                         'C' : pd.Series(1,index=list(range(4)),dtype='float32'),\n",
    "                         'D' : np.array([3] * 4,dtype='int32'),\n",
    "                         'E' : pd.Categorical([\"test\",\"train\",\"test\",\"train\"]),\n",
    "                         'F' : 'foo' }) "
   ]
  },
  {
   "cell_type": "code",
   "execution_count": 44,
   "metadata": {},
   "outputs": [
    {
     "data": {
      "text/html": [
       "<div>\n",
       "<style>\n",
       "    .dataframe thead tr:only-child th {\n",
       "        text-align: right;\n",
       "    }\n",
       "\n",
       "    .dataframe thead th {\n",
       "        text-align: left;\n",
       "    }\n",
       "\n",
       "    .dataframe tbody tr th {\n",
       "        vertical-align: top;\n",
       "    }\n",
       "</style>\n",
       "<table border=\"1\" class=\"dataframe\">\n",
       "  <thead>\n",
       "    <tr style=\"text-align: right;\">\n",
       "      <th></th>\n",
       "      <th>A</th>\n",
       "      <th>B</th>\n",
       "      <th>C</th>\n",
       "      <th>D</th>\n",
       "      <th>E</th>\n",
       "      <th>F</th>\n",
       "    </tr>\n",
       "  </thead>\n",
       "  <tbody>\n",
       "    <tr>\n",
       "      <th>0</th>\n",
       "      <td>1.0</td>\n",
       "      <td>2013-01-02</td>\n",
       "      <td>1.0</td>\n",
       "      <td>3</td>\n",
       "      <td>test</td>\n",
       "      <td>foo</td>\n",
       "    </tr>\n",
       "    <tr>\n",
       "      <th>1</th>\n",
       "      <td>1.0</td>\n",
       "      <td>2013-01-02</td>\n",
       "      <td>1.0</td>\n",
       "      <td>3</td>\n",
       "      <td>train</td>\n",
       "      <td>foo</td>\n",
       "    </tr>\n",
       "    <tr>\n",
       "      <th>2</th>\n",
       "      <td>1.0</td>\n",
       "      <td>2013-01-02</td>\n",
       "      <td>1.0</td>\n",
       "      <td>3</td>\n",
       "      <td>test</td>\n",
       "      <td>foo</td>\n",
       "    </tr>\n",
       "    <tr>\n",
       "      <th>3</th>\n",
       "      <td>1.0</td>\n",
       "      <td>2013-01-02</td>\n",
       "      <td>1.0</td>\n",
       "      <td>3</td>\n",
       "      <td>train</td>\n",
       "      <td>foo</td>\n",
       "    </tr>\n",
       "  </tbody>\n",
       "</table>\n",
       "</div>"
      ],
      "text/plain": [
       "     A          B    C  D      E    F\n",
       "0  1.0 2013-01-02  1.0  3   test  foo\n",
       "1  1.0 2013-01-02  1.0  3  train  foo\n",
       "2  1.0 2013-01-02  1.0  3   test  foo\n",
       "3  1.0 2013-01-02  1.0  3  train  foo"
      ]
     },
     "execution_count": 44,
     "metadata": {},
     "output_type": "execute_result"
    }
   ],
   "source": [
    "df2"
   ]
  },
  {
   "cell_type": "code",
   "execution_count": 46,
   "metadata": {},
   "outputs": [
    {
     "data": {
      "text/plain": [
       "A           float64\n",
       "B    datetime64[ns]\n",
       "C           float32\n",
       "D             int32\n",
       "E          category\n",
       "F            object\n",
       "dtype: object"
      ]
     },
     "execution_count": 46,
     "metadata": {},
     "output_type": "execute_result"
    }
   ],
   "source": [
    "df2.dtypes     #detects type of data"
   ]
  },
  {
   "cell_type": "code",
   "execution_count": 51,
   "metadata": {},
   "outputs": [
    {
     "ename": "SyntaxError",
     "evalue": "invalid syntax (<ipython-input-51-f33bfe1f6a59>, line 3)",
     "output_type": "error",
     "traceback": [
      "\u001b[1;36m  File \u001b[1;32m\"<ipython-input-51-f33bfe1f6a59>\"\u001b[1;36m, line \u001b[1;32m3\u001b[0m\n\u001b[1;33m    dft.?\u001b[0m\n\u001b[1;37m        ^\u001b[0m\n\u001b[1;31mSyntaxError\u001b[0m\u001b[1;31m:\u001b[0m invalid syntax\n"
     ]
    }
   ],
   "source": [
    "# If you’re using IPython, tab completion for column names (as well as public attributes) is automatically enabled.\n",
    "# Here’s a subset of the attributes that will be completed:\n",
    "dft.?"
   ]
  },
  {
   "cell_type": "code",
   "execution_count": null,
   "metadata": {
    "collapsed": true
   },
   "outputs": [],
   "source": []
  }
 ],
 "metadata": {
  "kernelspec": {
   "display_name": "Python 2",
   "language": "python",
   "name": "python2"
  },
  "language_info": {
   "codemirror_mode": {
    "name": "ipython",
    "version": 2
   },
   "file_extension": ".py",
   "mimetype": "text/x-python",
   "name": "python",
   "nbconvert_exporter": "python",
   "pygments_lexer": "ipython2",
   "version": "2.7.13"
  }
 },
 "nbformat": 4,
 "nbformat_minor": 2
}
